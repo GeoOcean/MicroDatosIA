{
 "cells": [
  {
   "cell_type": "markdown",
   "metadata": {},
   "source": [
    "# Programación Orientada a Objetos en Python\n",
    "\n",
    "## Introducción\n",
    "\n",
    "La Programación Orientada a Objetos (POO) es un paradigma de programación que utiliza objetos para diseñar aplicaciones y programas informáticos. Python es un lenguaje que soporta completamente la POO, lo que lo hace muy versátil y potente."
   ]
  },
  {
   "cell_type": "markdown",
   "metadata": {},
   "source": [
    "## 1. Clases y Objetos en Python\n",
    "\n",
    "Una clase es una plantilla que define las características (atributos) y comportamientos (métodos) que tendrán los objetos. Un objeto es una instancia de una clase."
   ]
  },
  {
   "cell_type": "code",
   "execution_count": 1,
   "metadata": {},
   "outputs": [
    {
     "name": "stdout",
     "output_type": "stream",
     "text": [
      "¡Hola! Me llamo Ana y tengo 25 años.\n",
      "¡Hola! Me llamo Juan y tengo 30 años.\n"
     ]
    }
   ],
   "source": [
    "class Persona:\n",
    "    # Constructor\n",
    "    def __init__(self, nombre, edad):\n",
    "        self.nombre = nombre  # Atributo de instancia\n",
    "        self.edad = edad  # Atributo de instancia\n",
    "\n",
    "    # Método de instancia\n",
    "    def saludar(self):\n",
    "        return f\"¡Hola! Me llamo {self.nombre} y tengo {self.edad} años.\"\n",
    "\n",
    "\n",
    "# Crear objetos (instancias)\n",
    "persona1 = Persona(\"Ana\", 25)\n",
    "persona2 = Persona(\"Juan\", 30)\n",
    "\n",
    "print(persona1.saludar())\n",
    "print(persona2.saludar())"
   ]
  },
  {
   "cell_type": "markdown",
   "metadata": {},
   "source": [
    "## 2. Atributos de Clase vs Atributos de Instancia\n",
    "\n",
    "Los atributos de clase son compartidos por todas las instancias, mientras que los atributos de instancia son únicos para cada objeto."
   ]
  },
  {
   "cell_type": "code",
   "execution_count": 2,
   "metadata": {},
   "outputs": [
    {
     "name": "stdout",
     "output_type": "stream",
     "text": [
      "Contador 1: 1\n",
      "Contador 2: 1\n",
      "Total de contadores creados: 2\n"
     ]
    }
   ],
   "source": [
    "class Contador:\n",
    "    # Atributo de clase\n",
    "    contador_total = 0\n",
    "\n",
    "    def __init__(self, nombre):\n",
    "        self.nombre = nombre  # Atributo de instancia\n",
    "        self.contador = 0  # Atributo de instancia\n",
    "        Contador.contador_total += 1  # Modificamos el atributo de clase\n",
    "\n",
    "    def incrementar(self):\n",
    "        self.contador += 1\n",
    "        return self.contador\n",
    "\n",
    "\n",
    "# Crear instancias\n",
    "contador1 = Contador(\"Primero\")\n",
    "contador2 = Contador(\"Segundo\")\n",
    "\n",
    "print(f\"Contador 1: {contador1.incrementar()}\")\n",
    "print(f\"Contador 2: {contador2.incrementar()}\")\n",
    "print(f\"Total de contadores creados: {Contador.contador_total}\")"
   ]
  },
  {
   "cell_type": "markdown",
   "metadata": {},
   "source": [
    "## 3. Encapsulamiento\n",
    "\n",
    "El encapsulamiento es el mecanismo que restringe el acceso directo a los componentes de un objeto. En Python, usamos convenciones de nombres para indicar el nivel de acceso:"
   ]
  },
  {
   "cell_type": "code",
   "execution_count": 3,
   "metadata": {},
   "outputs": [
    {
     "name": "stdout",
     "output_type": "stream",
     "text": [
      "Error: 'CuentaBancaria' object has no attribute '__saldo'\n",
      "Saldo actual: $1000\n",
      "Saldo después del depósito: $1500\n"
     ]
    }
   ],
   "source": [
    "class CuentaBancaria:\n",
    "    def __init__(self, titular, saldo=0):\n",
    "        self.__titular = titular  # Atributo privado (doble guion bajo)\n",
    "        self.__saldo = saldo  # Atributo privado\n",
    "\n",
    "    # Método público para acceder al saldo\n",
    "    def obtener_saldo(self):\n",
    "        return self.__saldo\n",
    "\n",
    "    # Método público para modificar el saldo\n",
    "    def depositar(self, cantidad):\n",
    "        if cantidad > 0:\n",
    "            self.__saldo += cantidad\n",
    "            return True\n",
    "        return False\n",
    "\n",
    "\n",
    "# Crear una cuenta\n",
    "cuenta = CuentaBancaria(\"Juan\", 1000)\n",
    "\n",
    "# Intentar acceder directamente al saldo (no funcionará)\n",
    "try:\n",
    "    print(cuenta.__saldo)\n",
    "except AttributeError as e:\n",
    "    print(f\"Error: {e}\")\n",
    "\n",
    "# Acceder al saldo usando el método público\n",
    "print(f\"Saldo actual: ${cuenta.obtener_saldo()}\")\n",
    "cuenta.depositar(500)\n",
    "print(f\"Saldo después del depósito: ${cuenta.obtener_saldo()}\")"
   ]
  },
  {
   "cell_type": "markdown",
   "metadata": {},
   "source": [
    "## 4. Herencia\n",
    "\n",
    "La herencia permite crear nuevas clases basadas en clases existentes, reutilizando código y estableciendo una relación jerárquica."
   ]
  },
  {
   "cell_type": "code",
   "execution_count": 4,
   "metadata": {},
   "outputs": [
    {
     "name": "stdout",
     "output_type": "stream",
     "text": [
      "Rex dice: ¡Guau!\n",
      "Mittens dice: ¡Miau!\n"
     ]
    }
   ],
   "source": [
    "class Animal:\n",
    "    def __init__(self, nombre):\n",
    "        self.nombre = nombre\n",
    "\n",
    "    def hacer_sonido(self):\n",
    "        pass\n",
    "\n",
    "\n",
    "class Perro(Animal):\n",
    "    def hacer_sonido(self):\n",
    "        return f\"{self.nombre} dice: ¡Guau!\"\n",
    "\n",
    "\n",
    "class Gato(Animal):\n",
    "    def hacer_sonido(self):\n",
    "        return f\"{self.nombre} dice: ¡Miau!\"\n",
    "\n",
    "\n",
    "# Crear objetos\n",
    "perro = Perro(\"Rex\")\n",
    "gato = Gato(\"Mittens\")\n",
    "\n",
    "print(perro.hacer_sonido())\n",
    "print(gato.hacer_sonido())"
   ]
  },
  {
   "cell_type": "markdown",
   "metadata": {},
   "source": [
    "## 5. Polimorfismo\n",
    "\n",
    "El polimorfismo permite que diferentes clases respondan de manera diferente al mismo método."
   ]
  },
  {
   "cell_type": "code",
   "execution_count": 5,
   "metadata": {},
   "outputs": [
    {
     "name": "stdout",
     "output_type": "stream",
     "text": [
      "Área total: 102.53975\n"
     ]
    }
   ],
   "source": [
    "class Forma:\n",
    "    def area(self):\n",
    "        pass\n",
    "\n",
    "\n",
    "class Circulo(Forma):\n",
    "    def __init__(self, radio):\n",
    "        self.radio = radio\n",
    "\n",
    "    def area(self):\n",
    "        return 3.14159 * self.radio**2\n",
    "\n",
    "\n",
    "class Rectangulo(Forma):\n",
    "    def __init__(self, base, altura):\n",
    "        self.base = base\n",
    "        self.altura = altura\n",
    "\n",
    "    def area(self):\n",
    "        return self.base * self.altura\n",
    "\n",
    "\n",
    "# Función que usa polimorfismo\n",
    "def calcular_area_total(formas):\n",
    "    return sum(forma.area() for forma in formas)\n",
    "\n",
    "\n",
    "# Crear diferentes formas\n",
    "circulo = Circulo(5)\n",
    "rectangulo = Rectangulo(4, 6)\n",
    "\n",
    "# Calcular área total\n",
    "formas = [circulo, rectangulo]\n",
    "print(f\"Área total: {calcular_area_total(formas)}\")"
   ]
  },
  {
   "cell_type": "markdown",
   "metadata": {},
   "source": [
    "## 6. Métodos Especiales (Magic Methods)\n",
    "\n",
    "Python proporciona métodos especiales que permiten definir el comportamiento de los objetos en situaciones específicas."
   ]
  },
  {
   "cell_type": "code",
   "execution_count": 6,
   "metadata": {},
   "outputs": [
    {
     "name": "stdout",
     "output_type": "stream",
     "text": [
      "v1: Vector(3, 4)\n",
      "v2: Vector(1, 2)\n",
      "v1 + v2: Vector(4, 6)\n",
      "Longitud de v1: 5\n"
     ]
    }
   ],
   "source": [
    "class Vector:\n",
    "    def __init__(self, x, y):\n",
    "        self.x = x\n",
    "        self.y = y\n",
    "\n",
    "    def __str__(self):\n",
    "        return f\"Vector({self.x}, {self.y})\"\n",
    "\n",
    "    def __add__(self, otro):\n",
    "        return Vector(self.x + otro.x, self.y + otro.y)\n",
    "\n",
    "    def __len__(self):\n",
    "        return int((self.x**2 + self.y**2) ** 0.5)\n",
    "\n",
    "\n",
    "# Crear vectores\n",
    "v1 = Vector(3, 4)\n",
    "v2 = Vector(1, 2)\n",
    "\n",
    "# Usar métodos especiales\n",
    "print(f\"v1: {v1}\")  # Usa __str__\n",
    "print(f\"v2: {v2}\")\n",
    "print(f\"v1 + v2: {v1 + v2}\")  # Usa __add__\n",
    "print(f\"Longitud de v1: {len(v1)}\")  # Usa __len__"
   ]
  },
  {
   "cell_type": "markdown",
   "metadata": {},
   "source": [
    "Como podemos ver debajo, incluso un simple número entero es un objeto con sus propios métodos y atributos. Esto es lo que hace que Python sea un lenguaje verdaderamente orientado a objetos. Cuando escribimos `numero + 10`, en realidad estamos llamando al método especial `__add__` del objeto `numero`.\n",
    "\n",
    "Este concepto es fundamental para entender la POO en Python, ya que significa que podemos tratar cualquier valor como un objeto y acceder a sus métodos y atributos."
   ]
  },
  {
   "cell_type": "code",
   "execution_count": 7,
   "metadata": {},
   "outputs": [
    {
     "name": "stdout",
     "output_type": "stream",
     "text": [
      "¿Es una instancia de int? True\n",
      "\n",
      "Métodos disponibles para int:\n",
      "['as_integer_ratio', 'bit_count', 'bit_length', 'conjugate', 'denominator', 'from_bytes', 'imag', 'is_integer', 'numerator', 'real', 'to_bytes']\n",
      "\n",
      "Número en binario: 6\n",
      "Número en hexadecimal: 0x2a\n",
      "\n",
      "Número creado desde binario: 4\n",
      "\n",
      "Suma usando método especial: 52\n",
      "Suma usando operador +: 52\n"
     ]
    }
   ],
   "source": [
    "# Crear un número entero\n",
    "numero = 42\n",
    "\n",
    "# Verificar que es una instancia de la clase int\n",
    "print(f\"¿Es una instancia de int? {isinstance(numero, int)}\")\n",
    "\n",
    "# Ver los métodos disponibles para el objeto int\n",
    "print(\"\\nMétodos disponibles para int:\")\n",
    "print([method for method in dir(numero) if not method.startswith(\"__\")])\n",
    "\n",
    "# Usar algunos métodos del objeto int\n",
    "print(f\"\\nNúmero en binario: {numero.bit_length()}\")\n",
    "print(f\"Número en hexadecimal: {hex(numero)}\")\n",
    "\n",
    "# Crear un nuevo int usando el constructor de la clase\n",
    "otro_numero = int(\"100\", 2)  # Convierte '100' en binario a decimal\n",
    "print(f\"\\nNúmero creado desde binario: {otro_numero}\")\n",
    "\n",
    "# Demostrar que los operadores son métodos especiales\n",
    "print(f\"\\nSuma usando método especial: {numero.__add__(10)}\")\n",
    "print(f\"Suma usando operador +: {numero + 10}\")"
   ]
  },
  {
   "cell_type": "markdown",
   "metadata": {},
   "source": [
    "## 7. Comparación con Lenguajes No Orientados a Objetos\n",
    "\n",
    "### MATLAB\n",
    "\n",
    "MATLAB es principalmente un lenguaje procedural y orientado a matrices. Aunque tiene soporte para programación orientada a objetos, su enfoque principal es diferente:\n",
    "\n",
    "1. **Enfoque en Matrices**: MATLAB está optimizado para operaciones con matrices y álgebra lineal.\n",
    "2. **Funciones Globales**: Muchas operaciones se realizan a través de funciones globales en lugar de métodos de objetos.\n",
    "3. **Sintaxis Procedural**: El código típico de MATLAB es más procedural que orientado a objetos.\n",
    "\n",
    "Ejemplo de código MATLAB típico:\n",
    "```matlab\n",
    "% Código procedural en MATLAB\n",
    "A = [1 2 3; 4 5 6; 7 8 9];\n",
    "B = [9 8 7; 6 5 4; 3 2 1];\n",
    "C = A * B;  % Multiplicación de matrices\n",
    "D = inv(A); % Inversa de matriz\n",
    "```\n",
    "\n",
    "### R\n",
    "\n",
    "R es un lenguaje de programación estadística que también es principalmente procedural:\n",
    "\n",
    "1. **Enfoque en Datos**: R está optimizado para análisis estadístico y manipulación de datos.\n",
    "2. **Funciones Vectorizadas**: Las operaciones se realizan principalmente a través de funciones vectorizadas.\n",
    "3. **Sistema de Objetos Simple**: R tiene un sistema de objetos más simple que Python.\n",
    "\n",
    "Ejemplo de código R típico:\n",
    "```r\n",
    "# Código procedural en R\n",
    "x <- c(1, 2, 3, 4, 5)\n",
    "y <- c(2, 4, 6, 8, 10)\n",
    "correlacion <- cor(x, y)\n",
    "regresion <- lm(y ~ x)\n",
    "```\n",
    "\n",
    "### Ventajas de la POO en Python vs. Enfoques Procedurales\n",
    "\n",
    "1. **Reutilización de Código**: La POO permite una mejor reutilización de código a través de la herencia.\n",
    "2. **Encapsulamiento**: Mejor control sobre el acceso a los datos.\n",
    "3. **Mantenibilidad**: Código más organizado y fácil de mantener.\n",
    "4. **Flexibilidad**: Mayor flexibilidad para extender y modificar el código.\n",
    "5. **Abstracción**: Mejor modelado de problemas del mundo real.\n",
    "\n",
    "Sin embargo, es importante notar que cada paradigma tiene sus ventajas:\n",
    "\n",
    "- **Procedural (MATLAB/R)**: Mejor para análisis numérico y estadístico.\n",
    "- **Orientado a Objetos (Python)**: Mejor para desarrollo de software complejo y mantenible."
   ]
  },
  {
   "cell_type": "markdown",
   "metadata": {},
   "source": [
    "## Ejercicios Prácticos\n",
    "\n",
    "1. Crea una clase `FiguraGeometrica` con métodos para calcular área y perímetro\n",
    "2. Implementa herencia para crear clases `Circulo`, `Rectangulo` y `Triangulo`\n",
    "3. Añade validación de datos y manejo de errores\n",
    "4. Implementa métodos especiales para comparar figuras por área\n",
    "5. Crea una clase `Estudiante` que herede de `Persona` y añade atributos específicos como `carrera` y `promedio`"
   ]
  }
 ],
 "metadata": {
  "kernelspec": {
   "display_name": "Python 3",
   "language": "python",
   "name": "python3"
  },
  "language_info": {
   "codemirror_mode": {
    "name": "ipython",
    "version": 3
   },
   "file_extension": ".py",
   "mimetype": "text/x-python",
   "name": "python",
   "nbconvert_exporter": "python",
   "pygments_lexer": "ipython3",
   "version": "3.8.0"
  }
 },
 "nbformat": 4,
 "nbformat_minor": 4
}
